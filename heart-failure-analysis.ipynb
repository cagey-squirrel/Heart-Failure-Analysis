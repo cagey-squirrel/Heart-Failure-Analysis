{
 "cells": [
  {
   "cell_type": "markdown",
   "source": "# Heart Failure Analysis",
   "metadata": {
    "tags": [],
    "is_collapsed": false,
    "cell_id": "00000-f48d8083-6f81-4efa-8b2c-c7729dcbd32c",
    "deepnote_cell_type": "text-cell-h1"
   }
  },
  {
   "cell_type": "markdown",
   "source": "This project will look into a dataset containing information about patients who had heart failure. ",
   "metadata": {
    "tags": [],
    "is_collapsed": false,
    "cell_id": "00001-22abfdd2-6aba-425c-b768-1c3f3df69dea",
    "deepnote_cell_type": "text-cell-p"
   }
  },
  {
   "cell_type": "markdown",
   "source": "First we will look into how each of the attributes from the dataset impacts patient's mortality rate. We will do this by dividing the dataset into groups of deceased and alive patients and then see how expressed each attribute is between these 2 groups.",
   "metadata": {
    "tags": [],
    "is_collapsed": false,
    "cell_id": "00002-72209d7d-0561-4647-b962-b1947cc6f35c",
    "deepnote_cell_type": "text-cell-p"
   }
  },
  {
   "cell_type": "markdown",
   "source": "Dataset can be found on this link: https://archive.ics.uci.edu/ml/datasets/Heart+failure+clinical+records. The dataset contains 13 attributes: - age: age of the patient (years)- anaemia: decrease of red blood cells or hemoglobin (boolean)- high blood pressure: if the patient has hypertension (boolean)- creatinine phosphokinase (CPK): level of the CPK enzyme in the blood (mcg/L)- diabetes: if the patient has diabetes (boolean)- ejection fraction: percentage of blood leaving the heart at each contraction (percentage)- platelets: platelets in the blood (kiloplatelets/mL)- sex: woman or man (binary)- serum creatinine: level of serum creatinine in the blood (mg/dL)- serum sodium: level of serum sodium in the blood (mEq/L)- smoking: if the patient smokes or not (boolean)- time: follow-up period (days)- [target] death event: if the patient deceased during the follow-up period (boolean).",
   "metadata": {
    "tags": [],
    "is_collapsed": false,
    "cell_id": "00003-2216d109-3540-4fa4-94fc-5fb6c027dee1",
    "deepnote_cell_type": "text-cell-p"
   }
  },
  {
   "cell_type": "markdown",
   "source": "",
   "metadata": {
    "tags": [],
    "cell_id": "00004-70732127-5a14-48ab-8781-2dbb933634cd",
    "deepnote_cell_type": "markdown"
   }
  },
  {
   "cell_type": "markdown",
   "source": "",
   "metadata": {
    "tags": [],
    "is_collapsed": false,
    "cell_id": "00005-76c00e9d-5939-4b09-9842-89800cd91b77",
    "deepnote_cell_type": "text-cell-p"
   }
  },
  {
   "cell_type": "markdown",
   "source": "### Importing modules",
   "metadata": {
    "tags": [],
    "is_collapsed": false,
    "cell_id": "00006-70a4db4f-29d1-4fae-9c8b-281709dbcab7",
    "deepnote_cell_type": "text-cell-h3"
   }
  },
  {
   "cell_type": "code",
   "metadata": {
    "tags": [],
    "cell_id": "00000-a4db3568-39d8-4cb5-bf40-783baf4e6ad5",
    "deepnote_to_be_reexecuted": false,
    "source_hash": "c76c7c51",
    "execution_start": 1635117396007,
    "execution_millis": 263189228,
    "deepnote_cell_type": "code"
   },
   "source": "import pandas as pd\nimport numpy as np",
   "execution_count": 1,
   "outputs": []
  },
  {
   "cell_type": "code",
   "metadata": {
    "tags": [],
    "cell_id": "00007-c66ea67d-0e0c-4a67-80d9-a158afc2e7b5",
    "deepnote_to_be_reexecuted": false,
    "source_hash": "503b602e",
    "execution_start": 1635117396053,
    "execution_millis": 9410,
    "deepnote_cell_type": "code"
   },
   "source": "!pip install mpld3==0.5.5",
   "execution_count": 2,
   "outputs": [
    {
     "name": "stdout",
     "text": "Collecting mpld3==0.5.5\n  Downloading mpld3-0.5.5.tar.gz (1.0 MB)\n\u001b[K     |████████████████████████████████| 1.0 MB 5.8 MB/s \n\u001b[?25hRequirement already satisfied: jinja2 in /shared-libs/python3.7/py-core/lib/python3.7/site-packages (from mpld3==0.5.5) (3.0.2)\nRequirement already satisfied: matplotlib in /shared-libs/python3.7/py/lib/python3.7/site-packages (from mpld3==0.5.5) (3.4.3)\nRequirement already satisfied: MarkupSafe>=2.0 in /shared-libs/python3.7/py-core/lib/python3.7/site-packages (from jinja2->mpld3==0.5.5) (2.0.1)\nRequirement already satisfied: cycler>=0.10 in /shared-libs/python3.7/py/lib/python3.7/site-packages (from matplotlib->mpld3==0.5.5) (0.10.0)\nRequirement already satisfied: kiwisolver>=1.0.1 in /shared-libs/python3.7/py/lib/python3.7/site-packages (from matplotlib->mpld3==0.5.5) (1.3.2)\nRequirement already satisfied: pillow>=6.2.0 in /shared-libs/python3.7/py/lib/python3.7/site-packages (from matplotlib->mpld3==0.5.5) (8.3.2)\nRequirement already satisfied: numpy>=1.16 in /shared-libs/python3.7/py/lib/python3.7/site-packages (from matplotlib->mpld3==0.5.5) (1.19.5)\nRequirement already satisfied: pyparsing>=2.2.1 in /shared-libs/python3.7/py-core/lib/python3.7/site-packages (from matplotlib->mpld3==0.5.5) (2.4.7)\nRequirement already satisfied: python-dateutil>=2.7 in /shared-libs/python3.7/py-core/lib/python3.7/site-packages (from matplotlib->mpld3==0.5.5) (2.8.2)\nRequirement already satisfied: six in /shared-libs/python3.7/py-core/lib/python3.7/site-packages (from cycler>=0.10->matplotlib->mpld3==0.5.5) (1.16.0)\nBuilding wheels for collected packages: mpld3\n  Building wheel for mpld3 (setup.py) ... \u001b[?25ldone\n\u001b[?25h  Created wheel for mpld3: filename=mpld3-0.5.5-py3-none-any.whl size=200907 sha256=695212447e9cc93e383b8ed570429650ad20626df6d1cac6d595b900dfb4847c\n  Stored in directory: /root/.cache/pip/wheels/3b/f3/08/a11447ac4ea31d7603142e76b4cba9e48b2fa7d82b76b69731\nSuccessfully built mpld3\nInstalling collected packages: mpld3\nSuccessfully installed mpld3-0.5.5\n\u001b[33mWARNING: You are using pip version 21.2.4; however, version 21.3.1 is available.\nYou should consider upgrading via the '/root/venv/bin/python -m pip install --upgrade pip' command.\u001b[0m\n",
     "output_type": "stream"
    }
   ]
  },
  {
   "cell_type": "code",
   "metadata": {
    "tags": [],
    "cell_id": "00006-efbb25fd-7867-46d5-b3c4-14ac70c2f798",
    "deepnote_to_be_reexecuted": false,
    "source_hash": "147f5115",
    "execution_start": 1635117405353,
    "execution_millis": 848,
    "deepnote_cell_type": "code"
   },
   "source": "import matplotlib.pyplot as plt \nimport matplotlib.gridspec as gridspec \nimport mpld3 as mpl",
   "execution_count": 3,
   "outputs": []
  },
  {
   "cell_type": "markdown",
   "source": "### Loading the data",
   "metadata": {
    "tags": [],
    "is_collapsed": false,
    "cell_id": "00009-230a37cf-0762-44c6-b9d6-456d84e58d80",
    "deepnote_cell_type": "text-cell-h3"
   }
  },
  {
   "cell_type": "code",
   "metadata": {
    "tags": [],
    "cell_id": "00009-78be12e6-611b-45ca-9907-c6c53adefd87",
    "deepnote_to_be_reexecuted": false,
    "source_hash": "7f3eba35",
    "execution_start": 1635117406204,
    "execution_millis": 55,
    "deepnote_cell_type": "code"
   },
   "source": "df = pd.read_csv(\"/work/heart_failure_clinical_records_dataset.csv\")\ndf.head(10)",
   "execution_count": 4,
   "outputs": [
    {
     "output_type": "execute_result",
     "execution_count": 4,
     "data": {
      "application/vnd.deepnote.dataframe.v2+json": {
       "row_count": 10,
       "column_count": 13,
       "columns": [
        {
         "name": "age",
         "dtype": "float64",
         "stats": {
          "unique_count": 7,
          "nan_count": 0,
          "min": "50.0",
          "max": "90.0",
          "histogram": [
           {
            "bin_start": 50,
            "bin_end": 54,
            "count": 1
           },
           {
            "bin_start": 54,
            "bin_end": 58,
            "count": 1
           },
           {
            "bin_start": 58,
            "bin_end": 62,
            "count": 1
           },
           {
            "bin_start": 62,
            "bin_end": 66,
            "count": 3
           },
           {
            "bin_start": 66,
            "bin_end": 70,
            "count": 0
           },
           {
            "bin_start": 70,
            "bin_end": 74,
            "count": 0
           },
           {
            "bin_start": 74,
            "bin_end": 78,
            "count": 2
           },
           {
            "bin_start": 78,
            "bin_end": 82,
            "count": 1
           },
           {
            "bin_start": 82,
            "bin_end": 86,
            "count": 0
           },
           {
            "bin_start": 86,
            "bin_end": 90,
            "count": 1
           }
          ]
         }
        },
        {
         "name": "anaemia",
         "dtype": "int64",
         "stats": {
          "unique_count": 2,
          "nan_count": 0,
          "min": "0",
          "max": "1",
          "histogram": [
           {
            "bin_start": 0,
            "bin_end": 0.1,
            "count": 4
           },
           {
            "bin_start": 0.1,
            "bin_end": 0.2,
            "count": 0
           },
           {
            "bin_start": 0.2,
            "bin_end": 0.30000000000000004,
            "count": 0
           },
           {
            "bin_start": 0.30000000000000004,
            "bin_end": 0.4,
            "count": 0
           },
           {
            "bin_start": 0.4,
            "bin_end": 0.5,
            "count": 0
           },
           {
            "bin_start": 0.5,
            "bin_end": 0.6000000000000001,
            "count": 0
           },
           {
            "bin_start": 0.6000000000000001,
            "bin_end": 0.7000000000000001,
            "count": 0
           },
           {
            "bin_start": 0.7000000000000001,
            "bin_end": 0.8,
            "count": 0
           },
           {
            "bin_start": 0.8,
            "bin_end": 0.9,
            "count": 0
           },
           {
            "bin_start": 0.9,
            "bin_end": 1,
            "count": 6
           }
          ]
         }
        },
        {
         "name": "creatinine_phosphokinase",
         "dtype": "int64",
         "stats": {
          "unique_count": 10,
          "nan_count": 0,
          "min": "47",
          "max": "7861",
          "histogram": [
           {
            "bin_start": 47,
            "bin_end": 828.4,
            "count": 9
           },
           {
            "bin_start": 828.4,
            "bin_end": 1609.8,
            "count": 0
           },
           {
            "bin_start": 1609.8,
            "bin_end": 2391.2,
            "count": 0
           },
           {
            "bin_start": 2391.2,
            "bin_end": 3172.6,
            "count": 0
           },
           {
            "bin_start": 3172.6,
            "bin_end": 3954,
            "count": 0
           },
           {
            "bin_start": 3954,
            "bin_end": 4735.4,
            "count": 0
           },
           {
            "bin_start": 4735.4,
            "bin_end": 5516.8,
            "count": 0
           },
           {
            "bin_start": 5516.8,
            "bin_end": 6298.2,
            "count": 0
           },
           {
            "bin_start": 6298.2,
            "bin_end": 7079.599999999999,
            "count": 0
           },
           {
            "bin_start": 7079.599999999999,
            "bin_end": 7861,
            "count": 1
           }
          ]
         }
        },
        {
         "name": "diabetes",
         "dtype": "int64",
         "stats": {
          "unique_count": 2,
          "nan_count": 0,
          "min": "0",
          "max": "1",
          "histogram": [
           {
            "bin_start": 0,
            "bin_end": 0.1,
            "count": 8
           },
           {
            "bin_start": 0.1,
            "bin_end": 0.2,
            "count": 0
           },
           {
            "bin_start": 0.2,
            "bin_end": 0.30000000000000004,
            "count": 0
           },
           {
            "bin_start": 0.30000000000000004,
            "bin_end": 0.4,
            "count": 0
           },
           {
            "bin_start": 0.4,
            "bin_end": 0.5,
            "count": 0
           },
           {
            "bin_start": 0.5,
            "bin_end": 0.6000000000000001,
            "count": 0
           },
           {
            "bin_start": 0.6000000000000001,
            "bin_end": 0.7000000000000001,
            "count": 0
           },
           {
            "bin_start": 0.7000000000000001,
            "bin_end": 0.8,
            "count": 0
           },
           {
            "bin_start": 0.8,
            "bin_end": 0.9,
            "count": 0
           },
           {
            "bin_start": 0.9,
            "bin_end": 1,
            "count": 2
           }
          ]
         }
        },
        {
         "name": "ejection_fraction",
         "dtype": "int64",
         "stats": {
          "unique_count": 7,
          "nan_count": 0,
          "min": "15",
          "max": "65",
          "histogram": [
           {
            "bin_start": 15,
            "bin_end": 20,
            "count": 1
           },
           {
            "bin_start": 20,
            "bin_end": 25,
            "count": 4
           },
           {
            "bin_start": 25,
            "bin_end": 30,
            "count": 0
           },
           {
            "bin_start": 30,
            "bin_end": 35,
            "count": 0
           },
           {
            "bin_start": 35,
            "bin_end": 40,
            "count": 2
           },
           {
            "bin_start": 40,
            "bin_end": 45,
            "count": 1
           },
           {
            "bin_start": 45,
            "bin_end": 50,
            "count": 0
           },
           {
            "bin_start": 50,
            "bin_end": 55,
            "count": 0
           },
           {
            "bin_start": 55,
            "bin_end": 60,
            "count": 0
           },
           {
            "bin_start": 60,
            "bin_end": 65,
            "count": 2
           }
          ]
         }
        },
        {
         "name": "high_blood_pressure",
         "dtype": "int64",
         "stats": {
          "unique_count": 2,
          "nan_count": 0,
          "min": "0",
          "max": "1",
          "histogram": [
           {
            "bin_start": 0,
            "bin_end": 0.1,
            "count": 7
           },
           {
            "bin_start": 0.1,
            "bin_end": 0.2,
            "count": 0
           },
           {
            "bin_start": 0.2,
            "bin_end": 0.30000000000000004,
            "count": 0
           },
           {
            "bin_start": 0.30000000000000004,
            "bin_end": 0.4,
            "count": 0
           },
           {
            "bin_start": 0.4,
            "bin_end": 0.5,
            "count": 0
           },
           {
            "bin_start": 0.5,
            "bin_end": 0.6000000000000001,
            "count": 0
           },
           {
            "bin_start": 0.6000000000000001,
            "bin_end": 0.7000000000000001,
            "count": 0
           },
           {
            "bin_start": 0.7000000000000001,
            "bin_end": 0.8,
            "count": 0
           },
           {
            "bin_start": 0.8,
            "bin_end": 0.9,
            "count": 0
           },
           {
            "bin_start": 0.9,
            "bin_end": 1,
            "count": 3
           }
          ]
         }
        },
        {
         "name": "platelets",
         "dtype": "float64",
         "stats": {
          "unique_count": 9,
          "nan_count": 0,
          "min": "127000.0",
          "max": "454000.0",
          "histogram": [
           {
            "bin_start": 127000,
            "bin_end": 159700,
            "count": 1
           },
           {
            "bin_start": 159700,
            "bin_end": 192400,
            "count": 1
           },
           {
            "bin_start": 192400,
            "bin_end": 225100,
            "count": 2
           },
           {
            "bin_start": 225100,
            "bin_end": 257800,
            "count": 0
           },
           {
            "bin_start": 257800,
            "bin_end": 290500,
            "count": 3
           },
           {
            "bin_start": 290500,
            "bin_end": 323200,
            "count": 0
           },
           {
            "bin_start": 323200,
            "bin_end": 355900,
            "count": 1
           },
           {
            "bin_start": 355900,
            "bin_end": 388600,
            "count": 1
           },
           {
            "bin_start": 388600,
            "bin_end": 421300,
            "count": 0
           },
           {
            "bin_start": 421300,
            "bin_end": 454000,
            "count": 1
           }
          ]
         }
        },
        {
         "name": "serum_creatinine",
         "dtype": "float64",
         "stats": {
          "unique_count": 8,
          "nan_count": 0,
          "min": "1.1",
          "max": "9.4",
          "histogram": [
           {
            "bin_start": 1.1,
            "bin_end": 1.9300000000000002,
            "count": 7
           },
           {
            "bin_start": 1.9300000000000002,
            "bin_end": 2.7600000000000002,
            "count": 2
           },
           {
            "bin_start": 2.7600000000000002,
            "bin_end": 3.5900000000000003,
            "count": 0
           },
           {
            "bin_start": 3.5900000000000003,
            "bin_end": 4.42,
            "count": 0
           },
           {
            "bin_start": 4.42,
            "bin_end": 5.25,
            "count": 0
           },
           {
            "bin_start": 5.25,
            "bin_end": 6.08,
            "count": 0
           },
           {
            "bin_start": 6.08,
            "bin_end": 6.91,
            "count": 0
           },
           {
            "bin_start": 6.91,
            "bin_end": 7.74,
            "count": 0
           },
           {
            "bin_start": 7.74,
            "bin_end": 8.57,
            "count": 0
           },
           {
            "bin_start": 8.57,
            "bin_end": 9.4,
            "count": 1
           }
          ]
         }
        },
        {
         "name": "serum_sodium",
         "dtype": "int64",
         "stats": {
          "unique_count": 9,
          "nan_count": 0,
          "min": "116",
          "max": "138",
          "histogram": [
           {
            "bin_start": 116,
            "bin_end": 118.2,
            "count": 1
           },
           {
            "bin_start": 118.2,
            "bin_end": 120.4,
            "count": 0
           },
           {
            "bin_start": 120.4,
            "bin_end": 122.6,
            "count": 0
           },
           {
            "bin_start": 122.6,
            "bin_end": 124.8,
            "count": 0
           },
           {
            "bin_start": 124.8,
            "bin_end": 127,
            "count": 0
           },
           {
            "bin_start": 127,
            "bin_end": 129.2,
            "count": 1
           },
           {
            "bin_start": 129.2,
            "bin_end": 131.4,
            "count": 2
           },
           {
            "bin_start": 131.4,
            "bin_end": 133.6,
            "count": 2
           },
           {
            "bin_start": 133.6,
            "bin_end": 135.8,
            "count": 0
           },
           {
            "bin_start": 135.8,
            "bin_end": 138,
            "count": 4
           }
          ]
         }
        },
        {
         "name": "sex",
         "dtype": "int64",
         "stats": {
          "unique_count": 2,
          "nan_count": 0,
          "min": "0",
          "max": "1",
          "histogram": [
           {
            "bin_start": 0,
            "bin_end": 0.1,
            "count": 2
           },
           {
            "bin_start": 0.1,
            "bin_end": 0.2,
            "count": 0
           },
           {
            "bin_start": 0.2,
            "bin_end": 0.30000000000000004,
            "count": 0
           },
           {
            "bin_start": 0.30000000000000004,
            "bin_end": 0.4,
            "count": 0
           },
           {
            "bin_start": 0.4,
            "bin_end": 0.5,
            "count": 0
           },
           {
            "bin_start": 0.5,
            "bin_end": 0.6000000000000001,
            "count": 0
           },
           {
            "bin_start": 0.6000000000000001,
            "bin_end": 0.7000000000000001,
            "count": 0
           },
           {
            "bin_start": 0.7000000000000001,
            "bin_end": 0.8,
            "count": 0
           },
           {
            "bin_start": 0.8,
            "bin_end": 0.9,
            "count": 0
           },
           {
            "bin_start": 0.9,
            "bin_end": 1,
            "count": 8
           }
          ]
         }
        },
        {
         "name": "smoking",
         "dtype": "int64",
         "stats": {
          "unique_count": 2,
          "nan_count": 0,
          "min": "0",
          "max": "1",
          "histogram": [
           {
            "bin_start": 0,
            "bin_end": 0.1,
            "count": 6
           },
           {
            "bin_start": 0.1,
            "bin_end": 0.2,
            "count": 0
           },
           {
            "bin_start": 0.2,
            "bin_end": 0.30000000000000004,
            "count": 0
           },
           {
            "bin_start": 0.30000000000000004,
            "bin_end": 0.4,
            "count": 0
           },
           {
            "bin_start": 0.4,
            "bin_end": 0.5,
            "count": 0
           },
           {
            "bin_start": 0.5,
            "bin_end": 0.6000000000000001,
            "count": 0
           },
           {
            "bin_start": 0.6000000000000001,
            "bin_end": 0.7000000000000001,
            "count": 0
           },
           {
            "bin_start": 0.7000000000000001,
            "bin_end": 0.8,
            "count": 0
           },
           {
            "bin_start": 0.8,
            "bin_end": 0.9,
            "count": 0
           },
           {
            "bin_start": 0.9,
            "bin_end": 1,
            "count": 4
           }
          ]
         }
        },
        {
         "name": "time",
         "dtype": "int64",
         "stats": {
          "unique_count": 5,
          "nan_count": 0,
          "min": "4",
          "max": "10",
          "histogram": [
           {
            "bin_start": 4,
            "bin_end": 4.6,
            "count": 1
           },
           {
            "bin_start": 4.6,
            "bin_end": 5.2,
            "count": 0
           },
           {
            "bin_start": 5.2,
            "bin_end": 5.8,
            "count": 0
           },
           {
            "bin_start": 5.8,
            "bin_end": 6.4,
            "count": 1
           },
           {
            "bin_start": 6.4,
            "bin_end": 7,
            "count": 0
           },
           {
            "bin_start": 7,
            "bin_end": 7.6,
            "count": 2
           },
           {
            "bin_start": 7.6,
            "bin_end": 8.2,
            "count": 2
           },
           {
            "bin_start": 8.2,
            "bin_end": 8.8,
            "count": 0
           },
           {
            "bin_start": 8.8,
            "bin_end": 9.399999999999999,
            "count": 0
           },
           {
            "bin_start": 9.399999999999999,
            "bin_end": 10,
            "count": 4
           }
          ]
         }
        },
        {
         "name": "DEATH_EVENT",
         "dtype": "int64",
         "stats": {
          "unique_count": 1,
          "nan_count": 0,
          "min": "1",
          "max": "1",
          "histogram": [
           {
            "bin_start": 0.5,
            "bin_end": 0.6,
            "count": 0
           },
           {
            "bin_start": 0.6,
            "bin_end": 0.7,
            "count": 0
           },
           {
            "bin_start": 0.7,
            "bin_end": 0.8,
            "count": 0
           },
           {
            "bin_start": 0.8,
            "bin_end": 0.9,
            "count": 0
           },
           {
            "bin_start": 0.9,
            "bin_end": 1,
            "count": 0
           },
           {
            "bin_start": 1,
            "bin_end": 1.1,
            "count": 10
           },
           {
            "bin_start": 1.1,
            "bin_end": 1.2000000000000002,
            "count": 0
           },
           {
            "bin_start": 1.2000000000000002,
            "bin_end": 1.3,
            "count": 0
           },
           {
            "bin_start": 1.3,
            "bin_end": 1.4,
            "count": 0
           },
           {
            "bin_start": 1.4,
            "bin_end": 1.5,
            "count": 0
           }
          ]
         }
        },
        {
         "name": "_deepnote_index_column",
         "dtype": "int64"
        }
       ],
       "rows_top": [
        {
         "age": 75,
         "anaemia": 0,
         "creatinine_phosphokinase": 582,
         "diabetes": 0,
         "ejection_fraction": 20,
         "high_blood_pressure": 1,
         "platelets": 265000,
         "serum_creatinine": 1.9,
         "serum_sodium": 130,
         "sex": 1,
         "smoking": 0,
         "time": 4,
         "DEATH_EVENT": 1,
         "_deepnote_index_column": 0
        },
        {
         "age": 55,
         "anaemia": 0,
         "creatinine_phosphokinase": 7861,
         "diabetes": 0,
         "ejection_fraction": 38,
         "high_blood_pressure": 0,
         "platelets": 263358.03,
         "serum_creatinine": 1.1,
         "serum_sodium": 136,
         "sex": 1,
         "smoking": 0,
         "time": 6,
         "DEATH_EVENT": 1,
         "_deepnote_index_column": 1
        },
        {
         "age": 65,
         "anaemia": 0,
         "creatinine_phosphokinase": 146,
         "diabetes": 0,
         "ejection_fraction": 20,
         "high_blood_pressure": 0,
         "platelets": 162000,
         "serum_creatinine": 1.3,
         "serum_sodium": 129,
         "sex": 1,
         "smoking": 1,
         "time": 7,
         "DEATH_EVENT": 1,
         "_deepnote_index_column": 2
        },
        {
         "age": 50,
         "anaemia": 1,
         "creatinine_phosphokinase": 111,
         "diabetes": 0,
         "ejection_fraction": 20,
         "high_blood_pressure": 0,
         "platelets": 210000,
         "serum_creatinine": 1.9,
         "serum_sodium": 137,
         "sex": 1,
         "smoking": 0,
         "time": 7,
         "DEATH_EVENT": 1,
         "_deepnote_index_column": 3
        },
        {
         "age": 65,
         "anaemia": 1,
         "creatinine_phosphokinase": 160,
         "diabetes": 1,
         "ejection_fraction": 20,
         "high_blood_pressure": 0,
         "platelets": 327000,
         "serum_creatinine": 2.7,
         "serum_sodium": 116,
         "sex": 0,
         "smoking": 0,
         "time": 8,
         "DEATH_EVENT": 1,
         "_deepnote_index_column": 4
        },
        {
         "age": 90,
         "anaemia": 1,
         "creatinine_phosphokinase": 47,
         "diabetes": 0,
         "ejection_fraction": 40,
         "high_blood_pressure": 1,
         "platelets": 204000,
         "serum_creatinine": 2.1,
         "serum_sodium": 132,
         "sex": 1,
         "smoking": 1,
         "time": 8,
         "DEATH_EVENT": 1,
         "_deepnote_index_column": 5
        },
        {
         "age": 75,
         "anaemia": 1,
         "creatinine_phosphokinase": 246,
         "diabetes": 0,
         "ejection_fraction": 15,
         "high_blood_pressure": 0,
         "platelets": 127000,
         "serum_creatinine": 1.2,
         "serum_sodium": 137,
         "sex": 1,
         "smoking": 0,
         "time": 10,
         "DEATH_EVENT": 1,
         "_deepnote_index_column": 6
        },
        {
         "age": 60,
         "anaemia": 1,
         "creatinine_phosphokinase": 315,
         "diabetes": 1,
         "ejection_fraction": 60,
         "high_blood_pressure": 0,
         "platelets": 454000,
         "serum_creatinine": 1.1,
         "serum_sodium": 131,
         "sex": 1,
         "smoking": 1,
         "time": 10,
         "DEATH_EVENT": 1,
         "_deepnote_index_column": 7
        },
        {
         "age": 65,
         "anaemia": 0,
         "creatinine_phosphokinase": 157,
         "diabetes": 0,
         "ejection_fraction": 65,
         "high_blood_pressure": 0,
         "platelets": 263358.03,
         "serum_creatinine": 1.5,
         "serum_sodium": 138,
         "sex": 0,
         "smoking": 0,
         "time": 10,
         "DEATH_EVENT": 1,
         "_deepnote_index_column": 8
        },
        {
         "age": 80,
         "anaemia": 1,
         "creatinine_phosphokinase": 123,
         "diabetes": 0,
         "ejection_fraction": 35,
         "high_blood_pressure": 1,
         "platelets": 388000,
         "serum_creatinine": 9.4,
         "serum_sodium": 133,
         "sex": 1,
         "smoking": 1,
         "time": 10,
         "DEATH_EVENT": 1,
         "_deepnote_index_column": 9
        }
       ],
       "rows_bottom": null
      },
      "text/plain": "    age  anaemia  creatinine_phosphokinase  diabetes  ejection_fraction  \\\n0  75.0        0                       582         0                 20   \n1  55.0        0                      7861         0                 38   \n2  65.0        0                       146         0                 20   \n3  50.0        1                       111         0                 20   \n4  65.0        1                       160         1                 20   \n5  90.0        1                        47         0                 40   \n6  75.0        1                       246         0                 15   \n7  60.0        1                       315         1                 60   \n8  65.0        0                       157         0                 65   \n9  80.0        1                       123         0                 35   \n\n   high_blood_pressure  platelets  serum_creatinine  serum_sodium  sex  \\\n0                    1  265000.00               1.9           130    1   \n1                    0  263358.03               1.1           136    1   \n2                    0  162000.00               1.3           129    1   \n3                    0  210000.00               1.9           137    1   \n4                    0  327000.00               2.7           116    0   \n5                    1  204000.00               2.1           132    1   \n6                    0  127000.00               1.2           137    1   \n7                    0  454000.00               1.1           131    1   \n8                    0  263358.03               1.5           138    0   \n9                    1  388000.00               9.4           133    1   \n\n   smoking  time  DEATH_EVENT  \n0        0     4            1  \n1        0     6            1  \n2        1     7            1  \n3        0     7            1  \n4        0     8            1  \n5        1     8            1  \n6        0    10            1  \n7        1    10            1  \n8        0    10            1  \n9        1    10            1  ",
      "text/html": "<div>\n<style scoped>\n    .dataframe tbody tr th:only-of-type {\n        vertical-align: middle;\n    }\n\n    .dataframe tbody tr th {\n        vertical-align: top;\n    }\n\n    .dataframe thead th {\n        text-align: right;\n    }\n</style>\n<table border=\"1\" class=\"dataframe\">\n  <thead>\n    <tr style=\"text-align: right;\">\n      <th></th>\n      <th>age</th>\n      <th>anaemia</th>\n      <th>creatinine_phosphokinase</th>\n      <th>diabetes</th>\n      <th>ejection_fraction</th>\n      <th>high_blood_pressure</th>\n      <th>platelets</th>\n      <th>serum_creatinine</th>\n      <th>serum_sodium</th>\n      <th>sex</th>\n      <th>smoking</th>\n      <th>time</th>\n      <th>DEATH_EVENT</th>\n    </tr>\n  </thead>\n  <tbody>\n    <tr>\n      <th>0</th>\n      <td>75.0</td>\n      <td>0</td>\n      <td>582</td>\n      <td>0</td>\n      <td>20</td>\n      <td>1</td>\n      <td>265000.00</td>\n      <td>1.9</td>\n      <td>130</td>\n      <td>1</td>\n      <td>0</td>\n      <td>4</td>\n      <td>1</td>\n    </tr>\n    <tr>\n      <th>1</th>\n      <td>55.0</td>\n      <td>0</td>\n      <td>7861</td>\n      <td>0</td>\n      <td>38</td>\n      <td>0</td>\n      <td>263358.03</td>\n      <td>1.1</td>\n      <td>136</td>\n      <td>1</td>\n      <td>0</td>\n      <td>6</td>\n      <td>1</td>\n    </tr>\n    <tr>\n      <th>2</th>\n      <td>65.0</td>\n      <td>0</td>\n      <td>146</td>\n      <td>0</td>\n      <td>20</td>\n      <td>0</td>\n      <td>162000.00</td>\n      <td>1.3</td>\n      <td>129</td>\n      <td>1</td>\n      <td>1</td>\n      <td>7</td>\n      <td>1</td>\n    </tr>\n    <tr>\n      <th>3</th>\n      <td>50.0</td>\n      <td>1</td>\n      <td>111</td>\n      <td>0</td>\n      <td>20</td>\n      <td>0</td>\n      <td>210000.00</td>\n      <td>1.9</td>\n      <td>137</td>\n      <td>1</td>\n      <td>0</td>\n      <td>7</td>\n      <td>1</td>\n    </tr>\n    <tr>\n      <th>4</th>\n      <td>65.0</td>\n      <td>1</td>\n      <td>160</td>\n      <td>1</td>\n      <td>20</td>\n      <td>0</td>\n      <td>327000.00</td>\n      <td>2.7</td>\n      <td>116</td>\n      <td>0</td>\n      <td>0</td>\n      <td>8</td>\n      <td>1</td>\n    </tr>\n    <tr>\n      <th>5</th>\n      <td>90.0</td>\n      <td>1</td>\n      <td>47</td>\n      <td>0</td>\n      <td>40</td>\n      <td>1</td>\n      <td>204000.00</td>\n      <td>2.1</td>\n      <td>132</td>\n      <td>1</td>\n      <td>1</td>\n      <td>8</td>\n      <td>1</td>\n    </tr>\n    <tr>\n      <th>6</th>\n      <td>75.0</td>\n      <td>1</td>\n      <td>246</td>\n      <td>0</td>\n      <td>15</td>\n      <td>0</td>\n      <td>127000.00</td>\n      <td>1.2</td>\n      <td>137</td>\n      <td>1</td>\n      <td>0</td>\n      <td>10</td>\n      <td>1</td>\n    </tr>\n    <tr>\n      <th>7</th>\n      <td>60.0</td>\n      <td>1</td>\n      <td>315</td>\n      <td>1</td>\n      <td>60</td>\n      <td>0</td>\n      <td>454000.00</td>\n      <td>1.1</td>\n      <td>131</td>\n      <td>1</td>\n      <td>1</td>\n      <td>10</td>\n      <td>1</td>\n    </tr>\n    <tr>\n      <th>8</th>\n      <td>65.0</td>\n      <td>0</td>\n      <td>157</td>\n      <td>0</td>\n      <td>65</td>\n      <td>0</td>\n      <td>263358.03</td>\n      <td>1.5</td>\n      <td>138</td>\n      <td>0</td>\n      <td>0</td>\n      <td>10</td>\n      <td>1</td>\n    </tr>\n    <tr>\n      <th>9</th>\n      <td>80.0</td>\n      <td>1</td>\n      <td>123</td>\n      <td>0</td>\n      <td>35</td>\n      <td>1</td>\n      <td>388000.00</td>\n      <td>9.4</td>\n      <td>133</td>\n      <td>1</td>\n      <td>1</td>\n      <td>10</td>\n      <td>1</td>\n    </tr>\n  </tbody>\n</table>\n</div>"
     },
     "metadata": {}
    }
   ]
  },
  {
   "cell_type": "markdown",
   "source": "### Analyzing the data",
   "metadata": {
    "tags": [],
    "is_collapsed": false,
    "cell_id": "00012-c66d9bc7-a7ad-4fc4-abda-2fc620d8441b",
    "deepnote_cell_type": "text-cell-h3"
   }
  },
  {
   "cell_type": "markdown",
   "source": "Showing the %'s of all deceased and alive patients.",
   "metadata": {
    "tags": [],
    "is_collapsed": false,
    "cell_id": "00013-cac705d5-048f-4bd0-b0a6-f7d68d06e33e",
    "deepnote_cell_type": "text-cell-p"
   }
  },
  {
   "cell_type": "code",
   "metadata": {
    "tags": [],
    "cell_id": "00013-26695ffe-eb42-40a2-ade8-580af2c6092d",
    "deepnote_to_be_reexecuted": false,
    "source_hash": "1bcda8f8",
    "execution_start": 1635117406265,
    "execution_millis": 220,
    "deepnote_cell_type": "code"
   },
   "source": "y = df.groupby('DEATH_EVENT').count()['age'] # Number of alive, dead\nY = [number / (y[0] + y[1]) for number in y] # % od alive, dead\nbarlist = plt.bar([0, 1], Y, width=0.1, align='edge') \n\nbarlist[0].set_color('g')\nbarlist[1].set_color('r')\n\nplt.show()",
   "execution_count": 5,
   "outputs": [
    {
     "data": {
      "text/plain": "<Figure size 432x288 with 1 Axes>",
      "image/png": "[encoded data removed]"
     },
     "metadata": {
      "needs_background": "light",
      "image/png": {
       "width": 372,
       "height": 248
      }
     },
     "output_type": "display_data"
    }
   ]
  },
  {
   "cell_type": "markdown",
   "source": "Analyzing the relationship between the attributes and the outcome of heart problem.",
   "metadata": {
    "tags": [],
    "is_collapsed": false,
    "cell_id": "00015-df148c2d-46a9-4292-9948-6674e8478f16",
    "deepnote_cell_type": "text-cell-p"
   }
  },
  {
   "cell_type": "code",
   "metadata": {
    "tags": [],
    "cell_id": "00016-96311872-e54b-48ac-b67c-cf887b1d1e81",
    "deepnote_to_be_reexecuted": false,
    "source_hash": "cca68dac",
    "execution_start": 1635117406537,
    "execution_millis": 4342,
    "deepnote_cell_type": "code"
   },
   "source": "dfD=df[df['DEATH_EVENT'] ==1]\ndfA=df[df['DEATH_EVENT'] ==0]\n\n\nfeaturesNameList = list(df.columns[0:12])\nnumberOfColumns = 2 # number of columns in a subplot matrix\nnumberOfRows = len(featuresNameList)//numberOfColumns\n\nplt.rcParams.update({'font.size': 8})\nfig, axes = plt.subplots(nrows=numberOfRows, ncols=numberOfColumns, figsize=(8,10))\naxes = axes.ravel()\nfor idx,ax in enumerate(axes):\n    ax.figure\n    binwidth= (max(df[featuresNameList[idx]]) - min(df[featuresNameList[idx]]))/50\n    ax.hist([dfD[featuresNameList[idx]],dfA[featuresNameList[idx]]], bins=np.arange(min(df[featuresNameList[idx]]), max(df[featuresNameList[idx]]) + binwidth, binwidth) , alpha=0.5, stacked=True, density=True, label=['Dead','Alive'],color=['r','g'])\n    ax.legend(loc='upper right')\n    ax.set_title(featuresNameList[idx])\nplt.tight_layout()\nplt.show()",
   "execution_count": 6,
   "outputs": [
    {
     "data": {
      "text/plain": "<Figure size 576x720 with 12 Axes>",
      "image/png": "[encoded data removed]"
     },
     "metadata": {
      "needs_background": "light",
      "image/png": {
       "width": 573,
       "height": 717
      }
     },
     "output_type": "display_data"
    }
   ]
  },
  {
   "cell_type": "markdown",
   "source": "### Observations:",
   "metadata": {
    "tags": [],
    "is_collapsed": false,
    "cell_id": "00017-ba170b9a-c494-4701-8611-6f046a9444bd",
    "deepnote_cell_type": "text-cell-h3"
   }
  },
  {
   "cell_type": "markdown",
   "source": "These arguments do not seem to make any extreme difference between patients who die and patience who survive. A deeper analysis is needed to provide more insight into these parameters.",
   "metadata": {
    "tags": [],
    "is_collapsed": false,
    "cell_id": "00018-41cf2d4d-69fd-4b07-80bf-b4e961bfed3a",
    "deepnote_cell_type": "text-cell-p"
   }
  },
  {
   "cell_type": "markdown",
   "source": "## Individual analysis",
   "metadata": {
    "tags": [],
    "is_collapsed": false,
    "cell_id": "00019-da2983b7-bece-49a8-9f98-c56685648fb7",
    "deepnote_cell_type": "text-cell-h2"
   }
  },
  {
   "cell_type": "code",
   "metadata": {
    "tags": [],
    "cell_id": "00020-aead635a-da59-496e-a925-7247be532961",
    "deepnote_to_be_reexecuted": false,
    "source_hash": "b19712f0",
    "execution_start": 1635117410884,
    "execution_millis": 6,
    "deepnote_cell_type": "code"
   },
   "source": "numberOfDead = dfD.count()['age']\nnumberOfAlive = dfA.count()['age']\n",
   "execution_count": 7,
   "outputs": []
  },
  {
   "cell_type": "markdown",
   "source": "### Age:",
   "metadata": {
    "tags": [],
    "is_collapsed": false,
    "cell_id": "00021-bab9e791-8e22-4aa2-a9d2-4e7bb24d4022",
    "deepnote_cell_type": "text-cell-h3"
   }
  },
  {
   "cell_type": "code",
   "metadata": {
    "tags": [],
    "cell_id": "00020-d7e8ec84-4e3c-4871-a3e9-ba9049a934dd",
    "deepnote_to_be_reexecuted": false,
    "source_hash": "45c59a44",
    "execution_start": 1635117410893,
    "execution_millis": 2,
    "deepnote_cell_type": "code"
   },
   "source": "ageDeadMean = dfD['age'].mean()\nageAliveMean = dfA['age'].mean()\n\nprint(\"On average people who do not survive heart failure are \", ageDeadMean, \" years old\")\nprint(\"On average people who survive heart failure are \", ageAliveMean, \" years old\")\n",
   "execution_count": 8,
   "outputs": [
    {
     "name": "stdout",
     "text": "On average people who do not survive heart failure are  65.21528124999999  years old\nOn average people who survive heart failure are  58.761906403940884  years old\n",
     "output_type": "stream"
    }
   ]
  },
  {
   "cell_type": "markdown",
   "source": "There is a difference in age, though it is slight.",
   "metadata": {
    "tags": [],
    "is_collapsed": false,
    "cell_id": "00021-b240d97b-581e-4e31-a312-9b7d85146f66",
    "deepnote_cell_type": "text-cell-p"
   }
  },
  {
   "cell_type": "markdown",
   "source": "### Anaemia:",
   "metadata": {
    "tags": [],
    "is_collapsed": false,
    "cell_id": "00024-4d5c8f48-682d-46ba-aa1a-ad9b4a89fbb5",
    "deepnote_cell_type": "text-cell-h3"
   }
  },
  {
   "cell_type": "code",
   "metadata": {
    "tags": [],
    "cell_id": "00022-6f4621fd-9f8c-4e7f-ac86-77c108cfa134",
    "deepnote_to_be_reexecuted": false,
    "source_hash": "bb27468d",
    "execution_start": 1635117410938,
    "execution_millis": 4,
    "deepnote_cell_type": "code"
   },
   "source": "numberOfDeadWithAnaemia = dfD[dfD['anaemia'] == 1].count()['age'] \nnumberOfAliveWithAnaemia = dfA[dfA['anaemia'] == 1].count()['age'] \n\nprint(numberOfDeadWithAnaemia/numberOfDead * 100, \"% of people who died from heart failure had anaemia\")\nprint((numberOfDead-numberOfDeadWithAnaemia)/numberOfDead * 100, \"% of people who died from heart failure did not have anaemia\")\nprint(numberOfAliveWithAnaemia/numberOfAlive * 100, \"% of people who did not die from heart failure had anaemia\")\nprint((numberOfAlive-numberOfAliveWithAnaemia)/numberOfAlive * 100, \"% of people who did not die from heart failure did not have anaemia\")",
   "execution_count": 9,
   "outputs": [
    {
     "name": "stdout",
     "text": "47.91666666666667 % of people who died from heart failure had anaemia\n52.083333333333336 % of people who died from heart failure did not have anaemia\n40.88669950738916 % of people who did not die from heart failure had anaemia\n59.11330049261084 % of people who did not die from heart failure did not have anaemia\n",
     "output_type": "stream"
    }
   ]
  },
  {
   "cell_type": "markdown",
   "source": "Anaemia does not seem to make a huge difference as well.",
   "metadata": {
    "tags": [],
    "is_collapsed": false,
    "cell_id": "00024-cedc4945-d441-4c62-9d3e-8b1148e690e0",
    "deepnote_cell_type": "text-cell-p"
   }
  },
  {
   "cell_type": "markdown",
   "source": "### Creatinine phosphokinase",
   "metadata": {
    "tags": [],
    "is_collapsed": false,
    "cell_id": "00027-73ac1b1c-0578-4d79-99fc-b389f954eb97",
    "deepnote_cell_type": "text-cell-h3"
   }
  },
  {
   "cell_type": "code",
   "metadata": {
    "tags": [],
    "cell_id": "00025-bb652f24-d6e6-4d8d-a13e-cdcb8ecb2684",
    "deepnote_to_be_reexecuted": false,
    "source_hash": "101381ee",
    "execution_start": 1635117410939,
    "execution_millis": 4,
    "deepnote_cell_type": "code"
   },
   "source": "CPDeadMean = dfD['creatinine_phosphokinase'].mean()\nCPAliveMean = dfA['creatinine_phosphokinase'].mean()\n\nprint(\"On average people who do not survive heart failure have \", CPDeadMean, \" creatinine phosphokinase\")\nprint(\"On average people who survive heart failure have \", CPAliveMean, \" creatinine phosphokinase\")",
   "execution_count": 10,
   "outputs": [
    {
     "name": "stdout",
     "text": "On average people who do not survive heart failure have  670.1979166666666  creatinine phosphokinase\nOn average people who survive heart failure have  540.0541871921182  creatinine phosphokinase\n",
     "output_type": "stream"
    }
   ]
  },
  {
   "cell_type": "markdown",
   "source": "Creatinine phosphokinase levels do make an impact on HF survival rate.",
   "metadata": {
    "tags": [],
    "is_collapsed": false,
    "cell_id": "00029-dfec5932-eaab-4dfc-acad-a4f9180fb208",
    "deepnote_cell_type": "text-cell-p"
   }
  },
  {
   "cell_type": "markdown",
   "source": "### Diabetes",
   "metadata": {
    "tags": [],
    "is_collapsed": false,
    "cell_id": "00030-bae04a95-a728-4906-8799-003a07c005cb",
    "deepnote_cell_type": "text-cell-h3"
   }
  },
  {
   "cell_type": "code",
   "metadata": {
    "tags": [],
    "cell_id": "00031-4787010e-e4a3-4b30-a5d8-0690f358e3e9",
    "deepnote_to_be_reexecuted": false,
    "source_hash": "cfb2d344",
    "execution_start": 1635117410941,
    "execution_millis": 9,
    "deepnote_cell_type": "code"
   },
   "source": "numberOfDeadWithDiabetes = dfD[dfD['diabetes'] == 1].count()['age'] \nnumberOfAliveWithDiabetes = dfA[dfA['diabetes'] == 1].count()['age'] \n\nprint(numberOfDeadWithDiabetes/numberOfDead * 100, \"% of people who died from heart failure had diabetes\")\nprint((numberOfDead-numberOfDeadWithDiabetes)/numberOfDead * 100, \"% of people who died from heart failure did not have diabetes\")\nprint(numberOfAliveWithDiabetes/numberOfAlive * 100, \"% of people who did not die from heart failure had diabetes\")\nprint((numberOfAlive-numberOfAliveWithDiabetes)/numberOfAlive * 100, \"% of people who did not die from heart failure did not have diabetes\")",
   "execution_count": 11,
   "outputs": [
    {
     "name": "stdout",
     "text": "41.66666666666667 % of people who died from heart failure had diabetes\n58.333333333333336 % of people who died from heart failure did not have diabetes\n41.87192118226601 % of people who did not die from heart failure had diabetes\n58.128078817733986 % of people who did not die from heart failure did not have diabetes\n",
     "output_type": "stream"
    }
   ]
  },
  {
   "cell_type": "markdown",
   "source": "Percentage of diabetes is about equal in both groups of people. ",
   "metadata": {
    "tags": [],
    "is_collapsed": false,
    "cell_id": "00032-abece7f1-d585-4e52-9aa8-6c47e7595fe0",
    "deepnote_cell_type": "text-cell-p"
   }
  },
  {
   "cell_type": "markdown",
   "source": "### Ejection fraction",
   "metadata": {
    "tags": [],
    "is_collapsed": false,
    "cell_id": "00033-b6a45f2b-36bf-4dad-b83a-5230ed124213",
    "deepnote_cell_type": "text-cell-h3"
   }
  },
  {
   "cell_type": "code",
   "metadata": {
    "tags": [],
    "cell_id": "00034-d6e37fdd-8d9d-4194-a289-a291d302e40a",
    "deepnote_to_be_reexecuted": false,
    "source_hash": "aa4d9c0f",
    "execution_start": 1635117410954,
    "execution_millis": 6,
    "deepnote_cell_type": "code"
   },
   "source": "EFDeadMean = dfD['ejection_fraction'].mean()\nEFAliveMean = dfA['ejection_fraction'].mean()\n\nprint(\"On average people who do not survive heart failure eject a fraction of \", CPDeadMean)\nprint(\"On average people who survive heart failure eject a fraction of \", CPAliveMean)\n",
   "execution_count": 12,
   "outputs": [
    {
     "name": "stdout",
     "text": "On average people who do not survive heart failure eject a fraction of  670.1979166666666\nOn average people who survive heart failure eject a fraction of  540.0541871921182\n",
     "output_type": "stream"
    }
   ]
  },
  {
   "cell_type": "markdown",
   "source": "Ejection fraction shows distinct values in two groups, making it an excellent parameter for mortality prediction.",
   "metadata": {
    "tags": [],
    "is_collapsed": false,
    "cell_id": "00035-7d8b2c20-a5a5-4226-bf57-a246840f615c",
    "deepnote_cell_type": "text-cell-p"
   }
  },
  {
   "cell_type": "markdown",
   "source": "### High blood pressure",
   "metadata": {
    "tags": [],
    "is_collapsed": false,
    "cell_id": "00036-96ea81f3-4a0a-47f7-9899-984a36f01725",
    "deepnote_cell_type": "text-cell-h3"
   }
  },
  {
   "cell_type": "code",
   "metadata": {
    "tags": [],
    "cell_id": "00037-1988a85d-4406-4a1c-84b6-0e932e395378",
    "deepnote_to_be_reexecuted": false,
    "source_hash": "ff9b4e4e",
    "execution_start": 1635117410963,
    "execution_millis": 16,
    "deepnote_cell_type": "code"
   },
   "source": "numberOfDeadWithHBP = dfD[dfD['high_blood_pressure'] == 1].count()['age'] \nnumberOfAliveWithHBP = dfA[dfA['high_blood_pressure'] == 1].count()['age'] \n\nprint(numberOfDeadWithHBP/numberOfDead * 100, \"% of people who died from heart failure had HBP\")\nprint((numberOfDead-numberOfDeadWithHBP)/numberOfDead * 100, \"% of people who died from heart failure did not have HBP\")\nprint(numberOfAliveWithHBP/numberOfAlive * 100, \"% of people who did not die from heart failure had HBP\")\nprint((numberOfAlive-numberOfAliveWithHBP)/numberOfAlive * 100, \"% of people who did not die from heart failure did not have HBP\")\n",
   "execution_count": 13,
   "outputs": [
    {
     "name": "stdout",
     "text": "40.625 % of people who died from heart failure had HBP\n59.375 % of people who died from heart failure did not have HBP\n32.51231527093596 % of people who did not die from heart failure had HBP\n67.48768472906403 % of people who did not die from heart failure did not have HBP\n",
     "output_type": "stream"
    }
   ]
  },
  {
   "cell_type": "markdown",
   "source": "There is a slight difference in high blood pressure between two groups, but it is not extremely obvious.",
   "metadata": {
    "tags": [],
    "is_collapsed": false,
    "cell_id": "00038-41dc0563-4a0c-441c-8e85-7babd0e03f3d",
    "deepnote_cell_type": "text-cell-p"
   }
  },
  {
   "cell_type": "markdown",
   "source": "### Platelets in blood",
   "metadata": {
    "tags": [],
    "is_collapsed": false,
    "cell_id": "00039-07b5e953-9124-4554-a041-5fe155564ffe",
    "deepnote_cell_type": "text-cell-h3"
   }
  },
  {
   "cell_type": "code",
   "metadata": {
    "tags": [],
    "cell_id": "00040-809b0d92-4741-4e39-af51-46dcc92061e3",
    "deepnote_to_be_reexecuted": false,
    "source_hash": "ecedf144",
    "execution_start": 1635117410978,
    "execution_millis": 5,
    "deepnote_cell_type": "code"
   },
   "source": "PDeadMean = dfD['platelets'].mean()\nPAliveMean = dfA['platelets'].mean()\n\nprint(\"On average people who do not survive heart failure had platelets level of \", PDeadMean)\nprint(\"On average people who survive heart failure had platelets level of \", PAliveMean)",
   "execution_count": 14,
   "outputs": [
    {
     "name": "stdout",
     "text": "On average people who do not survive heart failure had platelets level of  256381.04479166667\nOn average people who survive heart failure had platelets level of  266657.4899014778\n",
     "output_type": "stream"
    }
   ]
  },
  {
   "cell_type": "markdown",
   "source": "Platelets do not make a huge difference between 2 groups.",
   "metadata": {
    "tags": [],
    "is_collapsed": false,
    "cell_id": "00041-50970e38-d66a-4515-8103-868beb17f4d6",
    "deepnote_cell_type": "text-cell-p"
   }
  },
  {
   "cell_type": "markdown",
   "source": "### Serum creatinine",
   "metadata": {
    "tags": [],
    "is_collapsed": false,
    "cell_id": "00042-a61a3e1c-9511-45dc-8358-09bee78d694e",
    "deepnote_cell_type": "text-cell-h3"
   }
  },
  {
   "cell_type": "code",
   "metadata": {
    "tags": [],
    "cell_id": "00043-b4ad4c62-01f6-40dd-92c5-c579310b05f9",
    "deepnote_to_be_reexecuted": false,
    "source_hash": "803207e2",
    "execution_start": 1635117410983,
    "execution_millis": 8,
    "deepnote_cell_type": "code"
   },
   "source": "SCDeadMean = dfD['serum_creatinine'].mean()\nSCAliveMean = dfA['serum_creatinine'].mean()\n\nprint(\"On average people who do not survive heart failure had Serum creatinine level of \", SCDeadMean)\nprint(\"On average people who survive heart failure had Serum creatinine level of \", SCAliveMean)",
   "execution_count": 15,
   "outputs": [
    {
     "name": "stdout",
     "text": "On average people who do not survive heart failure had Serum creatinine level of  1.8358333333333334\nOn average people who survive heart failure had Serum creatinine level of  1.1848768472906404\n",
     "output_type": "stream"
    }
   ]
  },
  {
   "cell_type": "markdown",
   "source": "Levels of serum creatinine in blood make an extreme distinction between people who do and do not survive HF.",
   "metadata": {
    "tags": [],
    "is_collapsed": false,
    "cell_id": "00044-5e00f75f-5461-4c29-b5d6-f73b25e14e59",
    "deepnote_cell_type": "text-cell-p"
   }
  },
  {
   "cell_type": "markdown",
   "source": "### Serum sodium",
   "metadata": {
    "tags": [],
    "is_collapsed": false,
    "cell_id": "00045-1ce0ac3b-2506-407a-8410-c2511fb1e108",
    "deepnote_cell_type": "text-cell-h3"
   }
  },
  {
   "cell_type": "code",
   "metadata": {
    "tags": [],
    "cell_id": "00046-b67a0c20-36d1-4cfc-a418-5a6446a4d032",
    "deepnote_to_be_reexecuted": false,
    "source_hash": "45188046",
    "execution_start": 1635117410993,
    "execution_millis": 7,
    "deepnote_cell_type": "code"
   },
   "source": "SSDeadMean = dfD['serum_sodium'].mean()\nSSAliveMean = dfA['serum_sodium'].mean()\n\nprint(\"On average people who do not survive heart failure had Serum sodium level of \", SSDeadMean)\nprint(\"On average people who survive heart failure had Serum sodium level of \", SSAliveMean)",
   "execution_count": 16,
   "outputs": [
    {
     "name": "stdout",
     "text": "On average people who do not survive heart failure had Serum sodium level of  135.375\nOn average people who survive heart failure had Serum sodium level of  137.2167487684729\n",
     "output_type": "stream"
    }
   ]
  },
  {
   "cell_type": "markdown",
   "source": "Serum sodium levels in blood do not make a huge difference between 2 groups.",
   "metadata": {
    "tags": [],
    "is_collapsed": false,
    "cell_id": "00047-e44383ce-0da3-4f71-8d7d-a8e2bffc8538",
    "deepnote_cell_type": "text-cell-p"
   }
  },
  {
   "cell_type": "markdown",
   "source": "### Gender",
   "metadata": {
    "tags": [],
    "is_collapsed": false,
    "cell_id": "00048-16ed74b5-2d1b-440e-b709-4baf1b71306f",
    "deepnote_cell_type": "text-cell-h3"
   }
  },
  {
   "cell_type": "code",
   "metadata": {
    "tags": [],
    "cell_id": "00049-c7a5522f-269f-441a-a008-4d5d84413b2b",
    "deepnote_to_be_reexecuted": false,
    "source_hash": "23b68230",
    "execution_start": 1635117411001,
    "execution_millis": 40,
    "deepnote_cell_type": "code"
   },
   "source": "numberOfDeadMale = dfD[dfD['sex'] == 1].count()['age'] \nnumberOfAliveMale = dfA[dfA['sex'] == 1].count()['age'] \n\nprint(numberOfDeadMale/numberOfDead * 100, \"% of people who died from heart failure are male\")\nprint((numberOfDead-numberOfDeadMale)/numberOfDead * 100, \"% of people who died from heart failure are female\")\nprint(numberOfAliveMale/numberOfAlive * 100, \"% of people who did not die from heart failure are male\")\nprint((numberOfAlive-numberOfAliveMale)/numberOfAlive * 100, \"% of people who did not die from heart failure are female\")",
   "execution_count": 17,
   "outputs": [
    {
     "name": "stdout",
     "text": "64.58333333333334 % of people who died from heart failure are male\n35.41666666666667 % of people who died from heart failure are female\n65.02463054187191 % of people who did not die from heart failure are male\n34.97536945812808 % of people who did not die from heart failure are female\n",
     "output_type": "stream"
    }
   ]
  },
  {
   "cell_type": "markdown",
   "source": "Men tend to have HFs more often but gender does not affect mortality rate.",
   "metadata": {
    "tags": [],
    "is_collapsed": false,
    "cell_id": "00050-e0d66295-1cbd-4745-a251-7a18948dbbaf",
    "deepnote_cell_type": "text-cell-p"
   }
  },
  {
   "cell_type": "markdown",
   "source": "### Smoking",
   "metadata": {
    "tags": [],
    "is_collapsed": false,
    "cell_id": "00051-4f747970-f89b-498f-aa13-8d35dc847279",
    "deepnote_cell_type": "text-cell-h3"
   }
  },
  {
   "cell_type": "code",
   "metadata": {
    "tags": [],
    "cell_id": "00052-f6a30e9b-7b7f-4760-a209-6da5221daedf",
    "deepnote_to_be_reexecuted": false,
    "source_hash": "cf16b384",
    "execution_start": 1635117411038,
    "execution_millis": 4,
    "deepnote_cell_type": "code"
   },
   "source": "numberOfDeadSmokers = dfD[dfD['smoking'] == 1].count()['age'] \nnumberOfAliveSmokers = dfA[dfA['smoking'] == 1].count()['age'] \n\nprint(numberOfDeadSmokers/numberOfDead * 100, \"% of people who died from heart failure are smoking\")\nprint((numberOfDead-numberOfDeadSmokers)/numberOfDead * 100, \"% of people who died from heart failure are not smoking\")\nprint(numberOfAliveSmokers/numberOfAlive * 100, \"% of people who did not die from heart failure are male\")\nprint((numberOfAlive-numberOfAliveSmokers)/numberOfAlive * 100, \"% of people who did not die from heart failure are not smoking\")",
   "execution_count": 18,
   "outputs": [
    {
     "name": "stdout",
     "text": "31.25 % of people who died from heart failure are smoking\n68.75 % of people who died from heart failure are not smoking\n32.51231527093596 % of people who did not die from heart failure are male\n67.48768472906403 % of people who did not die from heart failure are not smoking\n",
     "output_type": "stream"
    }
   ]
  },
  {
   "cell_type": "markdown",
   "source": "Smoking %s are about the same among both groups.",
   "metadata": {
    "tags": [],
    "is_collapsed": false,
    "cell_id": "00053-4493fa7c-6610-410a-80aa-6999e7328d86",
    "deepnote_cell_type": "text-cell-p"
   }
  },
  {
   "cell_type": "markdown",
   "source": "### Time",
   "metadata": {
    "tags": [],
    "is_collapsed": false,
    "cell_id": "00054-5478a807-a538-4718-9ee8-e478acef9b3f",
    "deepnote_cell_type": "text-cell-h3"
   }
  },
  {
   "cell_type": "code",
   "metadata": {
    "tags": [],
    "cell_id": "00055-3212ffc3-c29a-4100-9918-923d05dabf66",
    "deepnote_to_be_reexecuted": false,
    "source_hash": "7d357681",
    "execution_start": 1635117411039,
    "execution_millis": 3,
    "deepnote_cell_type": "code"
   },
   "source": "TimeDeadMean = dfD['time'].mean()\nTimeAliveMean = dfA['time'].mean()\n\nprint(\"On average people who do not survive heart failure die after \", TimeDeadMean, \" days\")\nprint(\"On average people who survive heart failure are alive even after \", TimeAliveMean, \" days\")",
   "execution_count": 19,
   "outputs": [
    {
     "name": "stdout",
     "text": "On average people who do not survive heart failure die after  70.88541666666667  days\nOn average people who survive heart failure are alive even after  158.3399014778325  days\n",
     "output_type": "stream"
    }
   ]
  },
  {
   "cell_type": "markdown",
   "source": "This attribute can be interpreted in a controversial way if it is fed to algorithms in a straightforward way because it suggest that with longer period of time under monitoring people tend to live longer. This result really means that people that die after a HF do so in a short amount of time, and people who survive it live for more than half a year after it.",
   "metadata": {
    "tags": [],
    "is_collapsed": false,
    "cell_id": "00056-009241e1-2826-4c67-a634-8ded2414df61",
    "deepnote_cell_type": "text-cell-p"
   }
  },
  {
   "cell_type": "markdown",
   "source": "# Trying to predict mortality based on patients attributes",
   "metadata": {
    "tags": [],
    "is_collapsed": false,
    "cell_id": "00057-96b535ea-f918-41c2-ac4a-8070a9dae7f8",
    "deepnote_cell_type": "text-cell-h1"
   }
  },
  {
   "cell_type": "markdown",
   "source": "In this part we will try to predict whether patient will survive HF based on patient's condition. For this task we will use a broad range of classifying algorithms from sklearn library.",
   "metadata": {
    "tags": [],
    "is_collapsed": false,
    "cell_id": "00058-e1e508f0-6151-4865-940a-800374db69d5",
    "deepnote_cell_type": "text-cell-p"
   }
  },
  {
   "cell_type": "markdown",
   "source": "Since there is noticeably more data for patients who survived HF than for those who did not, F1 score will be more appreciated than pure precision of used algorithms. ",
   "metadata": {
    "tags": [],
    "is_collapsed": false,
    "cell_id": "00059-3ea956c1-7b89-4a5a-beaf-24073c32f01d",
    "deepnote_cell_type": "text-cell-p"
   }
  },
  {
   "cell_type": "code",
   "metadata": {
    "tags": [],
    "cell_id": "00059-c45a74b8-c8ea-4217-9150-a602842a09e5",
    "deepnote_to_be_reexecuted": false,
    "source_hash": "f5d02eb8",
    "execution_start": 1635117411040,
    "execution_millis": 571,
    "deepnote_cell_type": "code"
   },
   "source": "from sklearn.model_selection import train_test_split\nfrom sklearn.model_selection import KFold\nfrom sklearn import metrics\n\nfrom sklearn.model_selection import learning_curve\nfrom sklearn.model_selection import ShuffleSplit",
   "execution_count": 20,
   "outputs": []
  },
  {
   "cell_type": "code",
   "metadata": {
    "tags": [],
    "cell_id": "00060-ae365447-8aba-4f05-9c10-89ea02a043d0",
    "deepnote_to_be_reexecuted": false,
    "source_hash": "86a2b5b9",
    "execution_start": 1635117411627,
    "execution_millis": 25,
    "deepnote_cell_type": "code"
   },
   "source": "def classification_model(model, data, predictors, outcome):\n    #Fit the model:\n    model.fit(data[predictors],data[outcome])\n\n    #Make predictions on training set:\n    predictions = model.predict(data[predictors])\n\n    #Print accuracy\n    accuracy = metrics.accuracy_score(predictions,data[outcome])\n    f1 = metrics.f1_score(predictions, data[outcome])\n    print(\"Accuracy : %s\" % \"{0:.3%}\".format(accuracy))\n    print(\"F1 : %s\" % \"{0:.3%}\".format(f1)) \n    #Perform k-fold cross-validation with 5 folds\n    kf = KFold(5)\n    error = []\n    for train, test in kf.split(data):\n        # Filter training data\n        train_predictors = (data[predictors].iloc[train,:])\n\n        # The target we're using to train the algorithm.\n        train_target = data[outcome].iloc[train]\n\n        # Training the algorithm using the predictors and target.\n        model.fit(train_predictors, train_target)\n\n        #Record error from each cross-validation run\n        current_error = model.score(data[predictors].iloc[test,:], data[outcome].iloc[test])\n        error.append(current_error)\n\n        print(\"Cross-Validation Score : %s\" % \"{0:.3%}\".format(current_error))\n    \n    #Fit the model again so that it can be refered outside the function\n    print(\"Cross-Validation MEAN Score : %s\" % \"{0:.3%}\".format(np.mean(error)))\n    model.fit(data[predictors],data[outcome])",
   "execution_count": 21,
   "outputs": []
  },
  {
   "cell_type": "code",
   "metadata": {
    "tags": [],
    "cell_id": "00062-22783367-5e40-4755-802a-a0350bb1809e",
    "deepnote_to_be_reexecuted": false,
    "source_hash": "7a91bc4",
    "execution_start": 1635117411652,
    "execution_millis": 0,
    "deepnote_cell_type": "code"
   },
   "source": "def plot_learning_curve(estimator, title, X, y, axes=None, ylim=None, cv=None,\n                        n_jobs=None, train_sizes=np.linspace(.1, 1.0, 5)):\n    \"\"\"\n    Generate 3 plots: the test and training learning curve, the training\n    samples vs fit times curve, the fit times vs score curve.\n\n    Parameters\n    ----------\n    estimator : estimator instance\n        An estimator instance implementing `fit` and `predict` methods which\n        will be cloned for each validation.\n\n    title : str\n        Title for the chart.\n\n    X : array-like of shape (n_samples, n_features)\n        Training vector, where ``n_samples`` is the number of samples and\n        ``n_features`` is the number of features.\n\n    y : array-like of shape (n_samples) or (n_samples, n_features)\n        Target relative to ``X`` for classification or regression;\n        None for unsupervised learning.\n\n    axes : array-like of shape (3,), default=None\n        Axes to use for plotting the curves.\n\n    ylim : tuple of shape (2,), default=None\n        Defines minimum and maximum y-values plotted, e.g. (ymin, ymax).\n\n    cv : int, cross-validation generator or an iterable, default=None\n        Determines the cross-validation splitting strategy.\n        Possible inputs for cv are:\n\n          - None, to use the default 5-fold cross-validation,\n          - integer, to specify the number of folds.\n          - :term:`CV splitter`,\n          - An iterable yielding (train, test) splits as arrays of indices.\n\n        For integer/None inputs, if ``y`` is binary or multiclass,\n        :class:`StratifiedKFold` used. If the estimator is not a classifier\n        or if ``y`` is neither binary nor multiclass, :class:`KFold` is used.\n\n        Refer :ref:`User Guide <cross_validation>` for the various\n        cross-validators that can be used here.\n\n    n_jobs : int or None, default=None\n        Number of jobs to run in parallel.\n        ``None`` means 1 unless in a :obj:`joblib.parallel_backend` context.\n        ``-1`` means using all processors. See :term:`Glossary <n_jobs>`\n        for more details.\n\n    train_sizes : array-like of shape (n_ticks,)\n        Relative or absolute numbers of training examples that will be used to\n        generate the learning curve. If the ``dtype`` is float, it is regarded\n        as a fraction of the maximum size of the training set (that is\n        determined by the selected validation method), i.e. it has to be within\n        (0, 1]. Otherwise it is interpreted as absolute sizes of the training\n        sets. Note that for classification the number of samples usually have\n        to be big enough to contain at least one sample from each class.\n        (default: np.linspace(0.1, 1.0, 5))\n    \"\"\"\n    if axes is None:\n        _, axes = plt.subplots(1, 3, figsize=(20, 5))\n\n    axes[0].set_title(title)\n    if ylim is not None:\n        axes[0].set_ylim(*ylim)\n    axes[0].set_xlabel(\"Training examples\")\n    axes[0].set_ylabel(\"Score\")\n\n    train_sizes, train_scores, test_scores, fit_times, _ = \\\n        learning_curve(estimator, X, y, cv=cv, n_jobs=n_jobs,\n                       train_sizes=train_sizes,\n                       return_times=True)\n    train_scores_mean = np.mean(train_scores, axis=1)\n    train_scores_std = np.std(train_scores, axis=1)\n    test_scores_mean = np.mean(test_scores, axis=1)\n    test_scores_std = np.std(test_scores, axis=1)\n    fit_times_mean = np.mean(fit_times, axis=1)\n    fit_times_std = np.std(fit_times, axis=1)\n\n    # Plot learning curve\n    axes[0].grid()\n    axes[0].fill_between(train_sizes, train_scores_mean - train_scores_std,\n                         train_scores_mean + train_scores_std, alpha=0.1,\n                         color=\"r\")\n    axes[0].fill_between(train_sizes, test_scores_mean - test_scores_std,\n                         test_scores_mean + test_scores_std, alpha=0.1,\n                         color=\"g\")\n    axes[0].plot(train_sizes, train_scores_mean, 'o-', color=\"r\",\n                 label=\"Training score\")\n    axes[0].plot(train_sizes, test_scores_mean, 'o-', color=\"g\",\n                 label=\"Cross-validation score\")\n    axes[0].legend(loc=\"best\")\n\n    # Plot n_samples vs fit_times\n    axes[1].grid()\n    axes[1].plot(train_sizes, test_scores_mean, 'o-', color=\"g\",\n                 label=\"Cross-validation score\")\n    axes[1].fill_between(train_sizes, test_scores_mean - test_scores_std,\n                         test_scores_mean + test_scores_std, alpha=0.1,\n                         color=\"g\")\n    axes[1].set_xlabel(\"Training examples\")\n    axes[1].set_ylabel(\"CV Score\")\n    axes[1].set_title(\"Scalability of the model\")\n\n    # Plot fit_time vs score\n    axes[2].grid()\n    axes[2].plot(fit_times_mean, test_scores_mean, 'o-')\n    axes[2].fill_between(fit_times_mean, test_scores_mean - test_scores_std,\n                         test_scores_mean + test_scores_std, alpha=0.1)\n    axes[2].set_xlabel(\"fit_times\")\n    axes[2].set_ylabel(\"Score\")\n    axes[2].set_title(\"Performance of the model\")\n\n    return plt",
   "execution_count": 22,
   "outputs": []
  },
  {
   "cell_type": "code",
   "metadata": {
    "tags": [],
    "cell_id": "00061-a7e87ecc-360d-4f1c-a0b3-f91da5dd736c",
    "deepnote_to_be_reexecuted": false,
    "source_hash": "b1d1710b",
    "execution_start": 1635117411657,
    "execution_millis": 5,
    "deepnote_cell_type": "code"
   },
   "source": "traindf, testdf = train_test_split(df, test_size = 0.3)",
   "execution_count": 23,
   "outputs": []
  },
  {
   "cell_type": "markdown",
   "source": "### RidgeClassifier",
   "metadata": {
    "tags": [],
    "is_collapsed": false,
    "cell_id": "00059-73acce35-2a8e-4454-9764-d8f056170cc5",
    "deepnote_cell_type": "text-cell-h3"
   }
  },
  {
   "cell_type": "markdown",
   "source": "First we will try to predict mortality with sklearn's RidgeClassifier. Although algorithms using regression to do classification tasks are almost prohibited in theory, for practical reasons we will try to see if it really makes a huge difference.",
   "metadata": {
    "tags": [],
    "is_collapsed": false,
    "cell_id": "00060-1a816a6f-a33c-48ec-90ed-bb5dfbce81a4",
    "deepnote_cell_type": "text-cell-p"
   }
  },
  {
   "cell_type": "code",
   "metadata": {
    "tags": [],
    "cell_id": "00064-9740affe-8ca9-4323-ba06-978a04fbf3dc",
    "deepnote_to_be_reexecuted": false,
    "source_hash": "91437a92",
    "execution_start": 1635117411666,
    "execution_millis": 71,
    "deepnote_cell_type": "code"
   },
   "source": "from sklearn.linear_model import RidgeClassifier",
   "execution_count": 24,
   "outputs": []
  },
  {
   "cell_type": "code",
   "metadata": {
    "tags": [],
    "cell_id": "00061-e0a36d9f-6cc9-4aca-9d97-a59daab4622e",
    "deepnote_to_be_reexecuted": false,
    "source_hash": "4db2989a",
    "execution_start": 1635117411740,
    "execution_millis": 63,
    "deepnote_cell_type": "code"
   },
   "source": "predictor_var = ['age', 'anaemia', 'creatinine_phosphokinase', 'diabetes', 'ejection_fraction', 'high_blood_pressure', 'platelets', 'serum_creatinine',\t'serum_sodium', 'sex', 'smoking', 'time']\t\noutcome_var='DEATH_EVENT'\nmodelRidge=RidgeClassifier()\nclassification_model(modelRidge,traindf,predictor_var,outcome_var)",
   "execution_count": 25,
   "outputs": [
    {
     "name": "stdout",
     "text": "Accuracy : 85.167%\nF1 : 74.797%\nCross-Validation Score : 73.810%\nCross-Validation Score : 83.333%\nCross-Validation Score : 85.714%\nCross-Validation Score : 78.571%\nCross-Validation Score : 82.927%\nCross-Validation MEAN Score : 80.871%\n",
     "output_type": "stream"
    }
   ]
  },
  {
   "cell_type": "code",
   "metadata": {
    "tags": [],
    "cell_id": "00068-8b073497-b899-44f4-b49f-e434bfd867fa",
    "deepnote_to_be_reexecuted": false,
    "source_hash": "beb38470",
    "execution_start": 1635117411806,
    "execution_millis": 9636,
    "deepnote_cell_type": "code"
   },
   "source": "fig, axes = plt.subplots(3, 1, figsize=(10, 15))\ncv = ShuffleSplit(n_splits=100, test_size=0.2, random_state=0)\n\n\nplot_learning_curve(modelRidge, \"Ringe Classifier Learning Curve\", traindf[predictor_var], traindf[outcome_var], axes=axes, ylim=(0.7, 1.01),\n                    cv=cv, n_jobs=4)",
   "execution_count": 26,
   "outputs": [
    {
     "output_type": "execute_result",
     "execution_count": 26,
     "data": {
      "text/plain": "<module 'matplotlib.pyplot' from '/shared-libs/python3.7/py/lib/python3.7/site-packages/matplotlib/pyplot.py'>"
     },
     "metadata": {}
    },
    {
     "data": {
      "text/plain": "<Figure size 720x1080 with 3 Axes>",
      "image/png": "[encoded data removed]"
     },
     "metadata": {
      "needs_background": "light",
      "image/png": {
       "width": 610,
       "height": 872
      }
     },
     "output_type": "display_data"
    }
   ]
  },
  {
   "cell_type": "markdown",
   "source": "Expectedly, RidgeClassifier did not fit the data too well. Moreover, graphic shows that both training and CV error are too high. All of the above is the sign of the model having high bias problem.",
   "metadata": {
    "tags": [],
    "is_collapsed": false,
    "cell_id": "00066-1be1cae1-3bba-464e-bba6-d15fccbab480",
    "deepnote_cell_type": "text-cell-p"
   }
  },
  {
   "cell_type": "markdown",
   "source": "### Logistic Regression",
   "metadata": {
    "tags": [],
    "is_collapsed": false,
    "cell_id": "00070-6fd8a371-553a-46a0-b5ad-93e048c5fbe9",
    "deepnote_cell_type": "text-cell-h3"
   }
  },
  {
   "cell_type": "code",
   "metadata": {
    "tags": [],
    "cell_id": "00071-fbb43944-e006-42a3-8f56-eaa29c52db0f",
    "deepnote_to_be_reexecuted": false,
    "source_hash": "af35732f",
    "execution_start": 1635117421488,
    "execution_millis": 1,
    "deepnote_cell_type": "code"
   },
   "source": "from sklearn.linear_model import LogisticRegression",
   "execution_count": 27,
   "outputs": []
  },
  {
   "cell_type": "code",
   "metadata": {
    "tags": [],
    "cell_id": "00072-187d0dbf-f556-4a08-917f-5583a9f2ad61",
    "deepnote_to_be_reexecuted": false,
    "source_hash": "dd07f04e",
    "execution_start": 1635117421489,
    "execution_millis": 176,
    "deepnote_cell_type": "code"
   },
   "source": "predictor_var = ['age', 'anaemia', 'creatinine_phosphokinase', 'diabetes', 'ejection_fraction', 'high_blood_pressure', 'platelets', 'serum_creatinine',\t'serum_sodium', 'sex', 'smoking', 'time']\t\noutcome_var='DEATH_EVENT'\nmodelLogReg=LogisticRegression(max_iter=10000)\nclassification_model(modelLogReg,traindf,predictor_var,outcome_var)",
   "execution_count": 28,
   "outputs": [
    {
     "name": "stdout",
     "text": "Accuracy : 82.297%\nF1 : 69.421%\nCross-Validation Score : 80.952%\nCross-Validation Score : 85.714%\nCross-Validation Score : 80.952%\nCross-Validation Score : 76.190%\nCross-Validation Score : 82.927%\nCross-Validation MEAN Score : 81.347%\n",
     "output_type": "stream"
    }
   ]
  },
  {
   "cell_type": "markdown",
   "source": "Logistic regression gives roughly the same results as Ridge Classification. We could try to improve the algorithm by giving it a subset of its features.",
   "metadata": {
    "tags": [],
    "is_collapsed": false,
    "cell_id": "00073-09dfe91d-a8f5-4d39-ba37-30535552213f",
    "deepnote_cell_type": "text-cell-p"
   }
  },
  {
   "cell_type": "code",
   "metadata": {
    "tags": [],
    "cell_id": "00073-da2e8ab5-6406-4751-b31e-fae6d73847ef",
    "deepnote_to_be_reexecuted": false,
    "source_hash": "5be28064",
    "execution_start": 1635117421672,
    "execution_millis": 142,
    "deepnote_cell_type": "code"
   },
   "source": "predictor_var = ['age', 'serum_sodium', 'time', 'ejection_fraction', 'serum_creatinine']\t\noutcome_var='DEATH_EVENT'\nmodelLogReg2=LogisticRegression(max_iter=10000)\nclassification_model(modelLogReg2,traindf,predictor_var,outcome_var)",
   "execution_count": 29,
   "outputs": [
    {
     "name": "stdout",
     "text": "Accuracy : 84.689%\nF1 : 74.603%\nCross-Validation Score : 76.190%\nCross-Validation Score : 88.095%\nCross-Validation Score : 88.095%\nCross-Validation Score : 73.810%\nCross-Validation Score : 85.366%\nCross-Validation MEAN Score : 82.311%\n",
     "output_type": "stream"
    }
   ]
  },
  {
   "cell_type": "markdown",
   "source": "### Decision Trees",
   "metadata": {
    "tags": [],
    "is_collapsed": false,
    "cell_id": "00074-bf847f5f-8776-46b4-9c9b-43647d927daf",
    "deepnote_cell_type": "text-cell-h3"
   }
  },
  {
   "cell_type": "code",
   "metadata": {
    "tags": [],
    "cell_id": "00075-a4297af2-fcf7-4312-ba9f-0f393b56b5bf",
    "deepnote_to_be_reexecuted": false,
    "source_hash": "f6e918c6",
    "execution_start": 1635117421814,
    "execution_millis": 78,
    "deepnote_cell_type": "code"
   },
   "source": "from sklearn.tree import DecisionTreeClassifier, export_graphviz",
   "execution_count": 30,
   "outputs": []
  },
  {
   "cell_type": "code",
   "metadata": {
    "tags": [],
    "cell_id": "00077-da5611f8-7020-4fdb-9a23-890bb767b90d",
    "deepnote_to_be_reexecuted": false,
    "source_hash": "43713a90",
    "execution_start": 1635117421942,
    "execution_millis": 45,
    "deepnote_cell_type": "code"
   },
   "source": "predictor_var = ['age', 'anaemia', 'creatinine_phosphokinase', 'diabetes', 'ejection_fraction', 'high_blood_pressure', 'platelets', 'serum_creatinine',\t'serum_sodium', 'sex', 'smoking', 'time']\t\noutcome_var='DEATH_EVENT'\nmodelDecTree=DecisionTreeClassifier()\nclassification_model(modelDecTree,traindf,predictor_var,outcome_var)",
   "execution_count": 31,
   "outputs": [
    {
     "name": "stdout",
     "text": "Accuracy : 100.000%\nF1 : 100.000%\nCross-Validation Score : 76.190%\nCross-Validation Score : 69.048%\nCross-Validation Score : 80.952%\nCross-Validation Score : 76.190%\nCross-Validation Score : 82.927%\nCross-Validation MEAN Score : 77.062%\n",
     "output_type": "stream"
    }
   ]
  },
  {
   "cell_type": "markdown",
   "source": "As can be seen, decision trees get excellent accuracy and F1 score on training set but are performing bad when it comes to CV set. This is a sign of high variance.",
   "metadata": {
    "tags": [],
    "is_collapsed": false,
    "cell_id": "00078-b650ec31-891b-4528-ba67-99a645a1c56d",
    "deepnote_cell_type": "text-cell-p"
   }
  },
  {
   "cell_type": "code",
   "metadata": {
    "tags": [],
    "cell_id": "00078-ceebc621-733b-49ae-94ce-a22c797e8233",
    "deepnote_to_be_reexecuted": false,
    "source_hash": "4db5d9e3",
    "execution_start": 1635117421986,
    "execution_millis": 49,
    "deepnote_cell_type": "code"
   },
   "source": "predictor_var = ['age', 'serum_sodium', 'time', 'ejection_fraction', 'serum_creatinine']\noutcome_var='DEATH_EVENT'\nmodelDecTree2=DecisionTreeClassifier()\nclassification_model(modelDecTree2,traindf,predictor_var,outcome_var)",
   "execution_count": 32,
   "outputs": [
    {
     "name": "stdout",
     "text": "Accuracy : 100.000%\nF1 : 100.000%\nCross-Validation Score : 80.952%\nCross-Validation Score : 76.190%\nCross-Validation Score : 71.429%\nCross-Validation Score : 78.571%\nCross-Validation Score : 78.049%\nCross-Validation MEAN Score : 77.038%\n",
     "output_type": "stream"
    }
   ]
  },
  {
   "cell_type": "markdown",
   "source": "With a limited set of features generalization is a bit better and error on CV set is smaller.",
   "metadata": {
    "tags": [],
    "is_collapsed": false,
    "cell_id": "00080-ef056bad-3831-4874-9dc6-e035fe55ed2c",
    "deepnote_cell_type": "text-cell-p"
   }
  },
  {
   "cell_type": "code",
   "metadata": {
    "tags": [],
    "cell_id": "00081-29c66c4d-f3be-4e04-a78b-955540ab4ac4",
    "deepnote_to_be_reexecuted": false,
    "source_hash": "65fc95ac",
    "execution_start": 1635117422035,
    "execution_millis": 5985,
    "deepnote_cell_type": "code"
   },
   "source": "fig, axes = plt.subplots(3, 1, figsize=(10, 15))\ncv = ShuffleSplit(n_splits=100, test_size=0.2, random_state=0)\n\n\nplot_learning_curve(modelDecTree2, \"Decision Trees Learning Curve\", traindf[predictor_var], traindf[outcome_var], axes=axes, ylim=(0.7, 1.01),\n                    cv=cv, n_jobs=4)",
   "execution_count": 33,
   "outputs": [
    {
     "output_type": "execute_result",
     "execution_count": 33,
     "data": {
      "text/plain": "<module 'matplotlib.pyplot' from '/shared-libs/python3.7/py/lib/python3.7/site-packages/matplotlib/pyplot.py'>"
     },
     "metadata": {}
    },
    {
     "data": {
      "text/plain": "<Figure size 720x1080 with 3 Axes>",
      "image/png": "[encoded data removed]"
     },
     "metadata": {
      "needs_background": "light",
      "image/png": {
       "width": 615,
       "height": 872
      }
     },
     "output_type": "display_data"
    }
   ]
  },
  {
   "cell_type": "markdown",
   "source": "Gap between train and test error is huge, signaling a high variance problem. We could try to tune down the variance using random forests.",
   "metadata": {
    "tags": [],
    "is_collapsed": false,
    "cell_id": "00082-5135ec38-66e7-4e79-8293-1fd63e1aa404",
    "deepnote_cell_type": "text-cell-p"
   }
  },
  {
   "cell_type": "markdown",
   "source": "### Neural Networks",
   "metadata": {
    "tags": [],
    "is_collapsed": false,
    "cell_id": "00083-178a8f94-0880-476e-98c0-8fd7c9b3c77e",
    "deepnote_cell_type": "text-cell-h3"
   }
  },
  {
   "cell_type": "code",
   "source": "from sklearn.neural_network import MLPClassifier\nfrom sklearn.preprocessing import MinMaxScaler\nscaler = MinMaxScaler()\nX_train_norm = scaler.fit_transform(traindf)\nX_test_norm = scaler.fit_transform(testdf)\ndfTrainNorm = pd.DataFrame(X_train_norm, columns=df.columns)",
   "metadata": {
    "tags": [],
    "cell_id": "00084-73fcfe7b-c6cb-4bb7-87f2-cb76d8390bb9",
    "deepnote_to_be_reexecuted": false,
    "source_hash": "d32ec22",
    "execution_start": 1635121471898,
    "execution_millis": 1,
    "deepnote_cell_type": "code"
   },
   "outputs": [],
   "execution_count": 77
  },
  {
   "cell_type": "code",
   "source": "predictor_var = ['age', 'anaemia', 'creatinine_phosphokinase', 'diabetes', 'ejection_fraction', 'high_blood_pressure', 'platelets', 'serum_creatinine',\t'serum_sodium', 'sex', 'smoking', 'time']\t\npredictor_var = bestFeatures\noutcome_var='DEATH_EVENT'\nmodelNN=MLPClassifier(hidden_layer_sizes=(10, 10, 10, 10, 10), max_iter=5000)\nclassification_model(modelNN,dfTrainNorm,predictor_var,outcome_var)",
   "metadata": {
    "tags": [],
    "cell_id": "00085-bf38ad32-f4a8-4c91-9e0e-9d0d6cafc6b3",
    "deepnote_to_be_reexecuted": false,
    "source_hash": "41bce9a4",
    "execution_start": 1635121474078,
    "execution_millis": 8529,
    "deepnote_cell_type": "code"
   },
   "outputs": [
    {
     "name": "stdout",
     "text": "Accuracy : 86.603%\nF1 : 77.419%\nCross-Validation Score : 88.095%\nCross-Validation Score : 90.476%\nCross-Validation Score : 85.714%\nCross-Validation Score : 78.571%\nCross-Validation Score : 80.488%\nCross-Validation MEAN Score : 84.669%\n",
     "output_type": "stream"
    }
   ],
   "execution_count": 78
  },
  {
   "cell_type": "markdown",
   "source": "### Random Forests",
   "metadata": {
    "tags": [],
    "is_collapsed": false,
    "cell_id": "00083-e928b4ec-8e2d-4009-8504-add75a693cd8",
    "deepnote_cell_type": "text-cell-h3"
   }
  },
  {
   "cell_type": "code",
   "metadata": {
    "tags": [],
    "cell_id": "00084-a8dc23e9-b97b-4dd1-898e-101c1b80e3f9",
    "deepnote_to_be_reexecuted": false,
    "source_hash": "39ef4b5b",
    "execution_start": 1635117428062,
    "execution_millis": 45,
    "deepnote_cell_type": "code"
   },
   "source": "from sklearn.ensemble import RandomForestClassifier",
   "execution_count": 34,
   "outputs": []
  },
  {
   "cell_type": "code",
   "metadata": {
    "tags": [],
    "cell_id": "00085-33df9ff6-7630-4db7-a80f-bad37bdd2707",
    "deepnote_to_be_reexecuted": false,
    "source_hash": "586ae69c",
    "execution_start": 1635117428107,
    "execution_millis": 950,
    "deepnote_cell_type": "code"
   },
   "source": "predictor_var = ['age', 'anaemia', 'creatinine_phosphokinase', 'diabetes', 'ejection_fraction', 'high_blood_pressure', 'platelets', 'serum_creatinine',\t'serum_sodium', 'sex', 'smoking', 'time']\t\noutcome_var='DEATH_EVENT'\nmodelRandFor=RandomForestClassifier()\nclassification_model(modelRandFor,traindf,predictor_var,outcome_var)",
   "execution_count": 35,
   "outputs": [
    {
     "name": "stdout",
     "text": "Accuracy : 100.000%\nF1 : 100.000%\nCross-Validation Score : 85.714%\nCross-Validation Score : 85.714%\nCross-Validation Score : 85.714%\nCross-Validation Score : 83.333%\nCross-Validation Score : 80.488%\nCross-Validation MEAN Score : 84.193%\n",
     "output_type": "stream"
    }
   ]
  },
  {
   "cell_type": "markdown",
   "source": "Random Forests keep the high accuracy and F1 score just like decision trees, but CV score improved, signaling that we successfully lowered the variance.",
   "metadata": {
    "tags": [],
    "is_collapsed": false,
    "cell_id": "00086-5b1d4c8b-cf67-49ef-aeba-61dc46d548ce",
    "deepnote_cell_type": "text-cell-p"
   }
  },
  {
   "cell_type": "markdown",
   "source": "To further lower down the variance we can use a smaller set of features. Random Forests give us the importance of each feature so we can use only the most important ones.",
   "metadata": {
    "tags": [],
    "is_collapsed": false,
    "cell_id": "00087-178d8ddc-dda0-4b97-b7fe-8b4e31e0a744",
    "deepnote_cell_type": "text-cell-p"
   }
  },
  {
   "cell_type": "code",
   "metadata": {
    "tags": [],
    "cell_id": "00087-d94cd2e4-58ce-4717-9932-649e1298873d",
    "deepnote_to_be_reexecuted": false,
    "source_hash": "368a67e8",
    "execution_start": 1635117429073,
    "execution_millis": 25,
    "deepnote_cell_type": "code"
   },
   "source": "featimp = pd.Series(modelRandFor.feature_importances_, index=predictor_var).sort_values(ascending=False)\nprint(featimp)\n",
   "execution_count": 36,
   "outputs": [
    {
     "name": "stdout",
     "text": "time                        0.374352\nserum_creatinine            0.133575\nejection_fraction           0.119574\ncreatinine_phosphokinase    0.089852\nplatelets                   0.078712\nage                         0.076146\nserum_sodium                0.070857\nsex                         0.012413\nhigh_blood_pressure         0.012252\nanaemia                     0.011836\nsmoking                     0.011406\ndiabetes                    0.009025\ndtype: float64\n",
     "output_type": "stream"
    }
   ]
  },
  {
   "cell_type": "code",
   "metadata": {
    "tags": [],
    "cell_id": "00089-5d1b3cbe-c79b-45d6-8f41-daf9f7468479",
    "deepnote_to_be_reexecuted": false,
    "source_hash": "a636d7db",
    "execution_start": 1635117429100,
    "execution_millis": 9,
    "deepnote_cell_type": "code"
   },
   "source": "bestFeatures = featimp.index[:5]\nprint(bestFeatures)",
   "execution_count": 37,
   "outputs": [
    {
     "name": "stdout",
     "text": "Index(['time', 'serum_creatinine', 'ejection_fraction',\n       'creatinine_phosphokinase', 'platelets'],\n      dtype='object')\n",
     "output_type": "stream"
    }
   ]
  },
  {
   "cell_type": "code",
   "metadata": {
    "tags": [],
    "cell_id": "00089-bce0e40a-ef31-4a71-8560-1b133274cfae",
    "deepnote_to_be_reexecuted": false,
    "source_hash": "d80348be",
    "execution_start": 1635117429121,
    "execution_millis": 1390,
    "deepnote_cell_type": "code"
   },
   "source": "bestFeatures = featimp.index[:5]\nprint(bestFeatures)\noutcome_var='DEATH_EVENT'\nmodelRandFor2=RandomForestClassifier(n_estimators=150,min_samples_split=5, max_depth=5, max_features=3)\nclassification_model(modelRandFor2,traindf,bestFeatures,outcome_var)",
   "execution_count": 38,
   "outputs": [
    {
     "name": "stdout",
     "text": "Index(['time', 'serum_creatinine', 'ejection_fraction',\n       'creatinine_phosphokinase', 'platelets'],\n      dtype='object')\nAccuracy : 94.258%\nF1 : 90.769%\nCross-Validation Score : 90.476%\nCross-Validation Score : 76.190%\nCross-Validation Score : 88.095%\nCross-Validation Score : 78.571%\nCross-Validation Score : 78.049%\nCross-Validation MEAN Score : 82.276%\n",
     "output_type": "stream"
    }
   ]
  },
  {
   "cell_type": "markdown",
   "source": "Trying Random forests with 5 best features on test set:",
   "metadata": {
    "tags": [],
    "is_collapsed": false,
    "cell_id": "00091-43de4bb7-965c-4be7-9450-87c75bb3d259",
    "deepnote_cell_type": "text-cell-p"
   }
  },
  {
   "cell_type": "code",
   "metadata": {
    "tags": [],
    "cell_id": "00091-3f8ed096-7f4d-4d0a-acb3-8591f0884b4f",
    "deepnote_to_be_reexecuted": false,
    "source_hash": "7ea50da4",
    "execution_start": 1635117430513,
    "execution_millis": 1418,
    "deepnote_cell_type": "code"
   },
   "source": "\nclassification_model(modelRandFor2,testdf,bestFeatures,outcome_var)",
   "execution_count": 39,
   "outputs": [
    {
     "name": "stdout",
     "text": "Accuracy : 97.778%\nF1 : 96.667%\nCross-Validation Score : 83.333%\nCross-Validation Score : 94.444%\nCross-Validation Score : 77.778%\nCross-Validation Score : 88.889%\nCross-Validation Score : 72.222%\nCross-Validation MEAN Score : 83.333%\n",
     "output_type": "stream"
    }
   ]
  },
  {
   "cell_type": "code",
   "source": "fig, axes = plt.subplots(3, 1, figsize=(10, 15))\ncv = ShuffleSplit(n_splits=100, test_size=0.2, random_state=0)\n\n\nplot_learning_curve(modelRandFor2, \"Decision Trees Learning Curve\", testdf[predictor_var], testdf[outcome_var], axes=axes, ylim=(0.7, 1.01),\n                    cv=cv, n_jobs=4)",
   "metadata": {
    "tags": [],
    "cell_id": "00097-ae4a170b-96fb-486c-b277-3e2570ad9c53",
    "deepnote_to_be_reexecuted": false,
    "source_hash": "dcb2bf7a",
    "execution_start": 1635121570315,
    "execution_millis": 124778,
    "deepnote_cell_type": "code"
   },
   "outputs": [
    {
     "output_type": "execute_result",
     "execution_count": 81,
     "data": {
      "text/plain": "<module 'matplotlib.pyplot' from '/shared-libs/python3.7/py/lib/python3.7/site-packages/matplotlib/pyplot.py'>"
     },
     "metadata": {}
    },
    {
     "data": {
      "text/plain": "<Figure size 720x1080 with 3 Axes>",
      "image/png": "[encoded data removed]"
     },
     "metadata": {
      "needs_background": "light",
      "image/png": {
       "width": 610,
       "height": 872
      }
     },
     "output_type": "display_data"
    }
   ],
   "execution_count": 81
  },
  {
   "cell_type": "markdown",
   "source": "Accuracy and F1 score show pretty good results, cross-validation mean score is low but in test set CV sets get a very small part of data to measure.",
   "metadata": {
    "tags": [],
    "is_collapsed": false,
    "cell_id": "00097-39dc1360-e409-4e8b-b0c9-105bbfe363d5",
    "deepnote_cell_type": "text-cell-p"
   }
  },
  {
   "cell_type": "markdown",
   "source": "<a style='text-decoration:none;line-height:16px;display:flex;color:#5B5B62;padding:10px;justify-content:end;' href='https://deepnote.com?utm_source=created-in-deepnote-cell&projectId=7805022e-0551-4ab1-9c1b-7f865b17ad52' target=\"_blank\">\n<img alt='Created in deepnote.com' style='display:inline;max-height:16px;margin:0px;margin-right:7.5px;' src='data:image/svg+xml;base64,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' > </img>\nCreated in <span style='font-weight:600;margin-left:4px;'>Deepnote</span></a>",
   "metadata": {
    "tags": [],
    "created_in_deepnote_cell": true,
    "deepnote_cell_type": "markdown"
   }
  }
 ],
 "nbformat": 4,
 "nbformat_minor": 2,
 "metadata": {
  "orig_nbformat": 2,
  "deepnote": {
   "is_reactive": false
  },
  "deepnote_notebook_id": "461b7337-c4d2-4847-b59f-426c6a0eee61",
  "deepnote_execution_queue": []
 }
}